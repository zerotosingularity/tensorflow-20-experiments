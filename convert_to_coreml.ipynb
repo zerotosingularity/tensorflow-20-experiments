{
  "nbformat": 4,
  "nbformat_minor": 0,
  "metadata": {
    "colab": {
      "name": "Tensorflow 2.0 convert model to CoreML",
      "version": "0.3.2",
      "provenance": [],
      "collapsed_sections": []
    },
    "kernelspec": {
      "display_name": "Python 2",
      "name": "python2"
    },
    "accelerator": "GPU"
  },
  "cells": [
    {
      "metadata": {
        "id": "0OwqSX2VzFSo",
        "colab_type": "text"
      },
      "cell_type": "markdown",
      "source": [
        "<table class=\"tfo-notebook-buttons\" align=\"left\">\n",
        "  <td>\n",
        "    <a target=\"_blank\" href=\"https://colab.research.google.com/github/zerotosingularity/tensorflow-20-experiments/blob/master/convert_to_coreml.ipynb\"><img src=\"https://www.tensorflow.org/images/colab_logo_32px.png\" />Run in Google Colab</a>\n",
        "  </td>\n",
        "  <td>\n",
        "    <a target=\"_blank\" href=\"https://github.com/zerotosingularity/tensorflow-20-experiments/blob/master/convert_to_coreml.ipynb\"><img src=\"https://www.tensorflow.org/images/GitHub-Mark-32px.png\" />View source on GitHub</a>\n",
        "  </td>\n",
        "    <td>\n",
        "    <a target=\"_blank\" href=\"https://github.com/apple/coremltools/issues/323\"><img src=\"https://www.tensorflow.org/images/colab_logo_32px.png\" />Track bug status</a>\n",
        "  </td>\n",
        "</table>"
      ]
    },
    {
      "metadata": {
        "colab_type": "code",
        "id": "FFKSe5dxvzFt",
        "colab": {}
      },
      "cell_type": "code",
      "source": [
        "%reload_ext autoreload\n",
        "%autoreload 2\n",
        "%matplotlib inline"
      ],
      "execution_count": 0,
      "outputs": []
    },
    {
      "metadata": {
        "id": "xZtv9S7UzemQ",
        "colab_type": "code",
        "colab": {}
      },
      "cell_type": "code",
      "source": [
        "# Set to True if you want to use tf.keras instead keras.io\n",
        "use_tf_keras = False"
      ],
      "execution_count": 0,
      "outputs": []
    },
    {
      "metadata": {
        "id": "oDTEdkoBzmHH",
        "colab_type": "code",
        "colab": {
          "base_uri": "https://localhost:8080/",
          "height": 7667
        },
        "outputId": "f41e82c4-8196-47e8-8b55-9ceb2285516d"
      },
      "cell_type": "code",
      "source": [
        "!pip search  tf-nightly-gpu-2.0-preview "
      ],
      "execution_count": 3,
      "outputs": [
        {
          "output_type": "stream",
          "text": [
            "tf-nightly-gpu-2.0-preview (2.0.0.dev20190206)              - TensorFlow is an\n",
            "                                                              open source\n",
            "                                                              machine learning\n",
            "                                                              framework for\n",
            "                                                              everyone.\n",
            "tf-nightly-2.0-preview (2.0.0.dev20190206)                  - TensorFlow is an\n",
            "                                                              open source\n",
            "                                                              machine learning\n",
            "                                                              framework for\n",
            "                                                              everyone.\n",
            "tf-nightly-gpu (1.13.0.dev20190207)                         - TensorFlow is an\n",
            "                                                              open source\n",
            "                                                              machine learning\n",
            "                                                              framework for\n",
            "                                                              everyone.\n",
            "tf-agents-nightly (0.2.0.dev20190123)                       - TF-Agents: A\n",
            "                                                              Reinforcement\n",
            "                                                              Learning Library\n",
            "                                                              for TensorFlow\n",
            "tf-nightly-xla-gpu (1.12.0.dev20181002)                     - TensorFlow is an\n",
            "                                                              open source\n",
            "                                                              machine learning\n",
            "                                                              framework for\n",
            "                                                              everyone.\n",
            "tf-nightly (1.13.0.dev20190207)                             - TensorFlow is an\n",
            "                                                              open source\n",
            "                                                              machine learning\n",
            "                                                              framework for\n",
            "                                                              everyone.\n",
            "nightly (0.0.1)                                             - Nightly is a\n",
            "                                                              simple utility\n",
            "                                                              for executing a\n",
            "                                                              command every\n",
            "                                                              evening.\n",
            "nuclear-tf (0.2)                                            - TF helpers\n",
            "FlyAi-GPU (0.3.3)                                           - FlyAi-GPU\n",
            "django-preview (0.1)                                        - Managing preview\n",
            "                                                              subscription in\n",
            "                                                              Django\n",
            "tfp-nightly-gpu (0.6.0.dev20181031)                         - Probabilistic\n",
            "                                                              modeling and\n",
            "                                                              statistical\n",
            "                                                              inference in\n",
            "                                                              TensorFlow\n",
            "gpu-info (2.0.1)                                            - An intuitive and\n",
            "                                                              Pythonic GPU\n",
            "                                                              interface.\n",
            "tf-estimator-nightly (1.14.0.dev2019020601)                 - TensorFlow\n",
            "                                                              Estimator.\n",
            "tf-idf (0.0.0)                                              - An\n",
            "                                                              implementation\n",
            "                                                              of TF-IDF for\n",
            "                                                              keyword\n",
            "                                                              extraction.\n",
            "cubicweb-preview (1.2.4)                                    - Enables adding a\n",
            "                                                              preview button\n",
            "                                                              in your forms\n",
            "tensorflow-estimator-2.0-preview (1.13.0.dev2019012800)     - TensorFlow\n",
            "                                                              Estimator.\n",
            "tf-agents (0.2.0rc2)                                        - TF-Agents: A\n",
            "                                                              Reinforcement\n",
            "                                                              Learning Library\n",
            "                                                              for TensorFlow\n",
            "multiview-gpu (0.1.1)                                       - GPU-accelerated\n",
            "                                                              multiview\n",
            "                                                              clustering and\n",
            "                                                              dimensionality\n",
            "                                                              reduction\n",
            "preview-markup (0.3.3)                                      - Live preview\n",
            "                                                              Markdown and\n",
            "                                                              reStructuredText\n",
            "                                                              files as HTML in\n",
            "                                                              a web browser\n",
            "topos-preview (0.0.1)                                       - Widget for\n",
            "                                                              Jupyter\n",
            "                                                              Notebooks that\n",
            "                                                              allows for\n",
            "                                                              previewing topos\n",
            "                                                              Mesh objects\n",
            "Tf-Idf-CategoryWeighting (0.0.0)                            - Tf-Idf-CategoryW\n",
            "                                                              eighting\n",
            "GPU-BSM (2.7.1)                                             - A GPU-based Tool\n",
            "                                                              to Map\n",
            "                                                              Bisulfite-\n",
            "                                                              Threated Reads\n",
            "preview-generator (0.9)                                     - A library for\n",
            "                                                              generating\n",
            "                                                              preview\n",
            "                                                              (thumbnails,\n",
            "                                                              text or json\n",
            "                                                              overview) for\n",
            "                                                              file-based\n",
            "                                                              content\n",
            "malaya-gpu (1.6.1.1)                                        - Natural-\n",
            "                                                              Language-Toolkit\n",
            "                                                              for bahasa\n",
            "                                                              Malaysia,\n",
            "                                                              powered by Deep\n",
            "                                                              Learning. GPU\n",
            "                                                              Version\n",
            "tiny-tf (0.9.1)                                             - Shameless\n",
            "                                                              reimplementation\n",
            "                                                              of extremely\n",
            "                                                              limited API from\n",
            "                                                              Tully Foote's TF\n",
            "                                                              library\n",
            "django-slug-preview (1.0.4)                                 - An advanced slug\n",
            "                                                              field with URL\n",
            "                                                              previews.\n",
            "gpu-cluster-cli (0.1.1)                                     - GPU Cluster\n",
            "                                                              Command Line\n",
            "                                                              Interface\n",
            "base16-shell-preview (0.3.0)                                - Browse and\n",
            "                                                              preview Base16\n",
            "                                                              Shell themes in\n",
            "                                                              your terminal.\n",
            "odoo8-addon-attachment-preview (8.0.1.2.0)                  - Preview\n",
            "                                                              attachments\n",
            "                                                              supported by\n",
            "                                                              Viewer.js\n",
            "odoo11-addon-attachment-preview (11.0.1.2.1)                - Preview\n",
            "                                                              attachments\n",
            "                                                              supported by\n",
            "                                                              Viewer.js\n",
            "udata-tabular-preview (1.0.0)                               - A plugin to\n",
            "                                                              preview tabular\n",
            "                                                              files (CSV,\n",
            "                                                              Excel, ...)\n",
            "                                                              using csvapi\n",
            "grub2-theme-preview (1.3.2)                                 - Preview a GRUB\n",
            "                                                              2.x theme using\n",
            "                                                              KVM/QEMU\n",
            "django-template-preview (0.1.5)                             - A simple Django\n",
            "                                                              app to preview\n",
            "                                                              rendered\n",
            "                                                              templates in\n",
            "                                                              your browser.\n",
            "tf (1.0.0)                                                  - Randomised true\n",
            "                                                              or false values\n",
            "PyAPNS-2.0 (0.1)                                            - \n",
            "odoo8-addon-website-sale-cart-preview (8.0.1.0.0.99.dev12)  - Preview your\n",
            "                                                              cart on\n",
            "                                                              mouseover\n",
            "Beetle-Preview (0.1.0)                                      - Local test\n",
            "                                                              server plugin\n",
            "                                                              for Beetle\n",
            "uforgecli-nightly (3.7.8.dev20171006)                       - \n",
            "dagstermill-nightly (0.3.0rc9.dev6)                         - \n",
            "dagit-nightly (0.3.0rc9.dev6)                               - Web UI for\n",
            "                                                              dagster.\n",
            "dagster-nightly (0.3.0rc9.dev6)                             - Dagster is an\n",
            "                                                              opinionated\n",
            "                                                              programming\n",
            "                                                              model for data\n",
            "                                                              pipelines.\n",
            "joker-nightly (0.0.5)                                       - A job runner\n",
            "                                                              based on\n",
            "                                                              apscheduler\n",
            "spacy-nightly (2.1.0a6)                                     - Industrial-\n",
            "                                                              strength Natural\n",
            "                                                              Language\n",
            "                                                              Processing (NLP)\n",
            "                                                              with Python and\n",
            "                                                              Cython\n",
            "torchvision-nightly (0.2.1)                                 - image and video\n",
            "                                                              datasets and\n",
            "                                                              models for torch\n",
            "                                                              deep learning\n",
            "tfp-nightly (0.7.0.dev20190207)                             - Probabilistic\n",
            "                                                              modeling and\n",
            "                                                              statistical\n",
            "                                                              inference in\n",
            "                                                              TensorFlow\n",
            "tfds-nightly (0.0.2.dev201902070013)                        - tensorflow/datas\n",
            "                                                              ets is a library\n",
            "                                                              of datasets\n",
            "                                                              ready to use\n",
            "                                                              with TensorFlow.\n",
            "  INSTALLED: 0.0.2.dev201902040013\n",
            "  LATEST:    0.0.2.dev201902070013\n",
            "tb-nightly (1.13.0a20190207)                                - TensorBoard lets\n",
            "                                                              you watch\n",
            "                                                              Tensors Flow\n",
            "odoo11-addon-website-video-preview (11.0.1.0.0.99.dev6)     - This module\n",
            "                                                              initially only\n",
            "                                                              shows a preview\n",
            "                                                              of videos\n",
            "                                                              instead of\n",
            "                                                              directly loading\n",
            "                                                              the iframe.\n",
            "pysdl-gpu (0.1.3)                                           - A wrapper around\n",
            "                                                              SDL_gpu\n",
            "gpu-utils (0.1.3)                                           - Utility\n",
            "                                                              functions for\n",
            "                                                              working with\n",
            "                                                              GPUs.\n",
            "paddlepaddle-gpu (1.2.1.post97)                             - Parallel\n",
            "                                                              Distributed Deep\n",
            "                                                              Learning\n",
            "onnxruntime-gpu (0.2.1)                                     - ONNX Runtime\n",
            "                                                              Python bindings\n",
            "Qulacs-GPU (0.1.0)                                          - Quantum circuit\n",
            "                                                              simulator for\n",
            "                                                              research\n",
            "magenta-gpu (1.0.2)                                         - Use machine\n",
            "                                                              learning to\n",
            "                                                              create art and\n",
            "                                                              music\n",
            "gpu-optimize (2018.8.3)                                     - Drop-in\n",
            "                                                              replacement\n",
            "                                                              functions that\n",
            "                                                              run on NVIDIA\n",
            "                                                              GPUs,\n",
            "                                                              parallelized for\n",
            "                                                              speed\n",
            "tensorflow-gpu (1.12.0)                                     - TensorFlow is an\n",
            "                                                              open source\n",
            "                                                              machine learning\n",
            "                                                              framework for\n",
            "                                                              everyone.\n",
            "StrawberryFields-gpu (0.9.0)                                - Open source\n",
            "                                                              library for\n",
            "                                                              continuous-\n",
            "                                                              variable quantum\n",
            "                                                              computation\n",
            "cntk-gpu (2.6)                                              - CNTK is an open-\n",
            "                                                              source,\n",
            "                                                              commercial-grade\n",
            "                                                              deep learning\n",
            "                                                              framework.\n",
            "deepspeech-gpu (0.4.1)                                      - A library for\n",
            "                                                              running\n",
            "                                                              inference on a\n",
            "                                                              DeepSpeech model\n",
            "yolo34py-gpu (0.1rc12)                                      - Python wrapper\n",
            "                                                              on YOLO 3.0\n",
            "                                                              implementation\n",
            "                                                              by 'pjreddie': (\n",
            "                                                              https://pjreddie\n",
            "                                                              .com/yolo)\n",
            "tensorflow-gpu-macosx (1.8.1)                               - Unoffcial NVIDIA\n",
            "                                                              CUDA GPU support\n",
            "                                                              version of\n",
            "                                                              Google\n",
            "                                                              Tensorflow for\n",
            "                                                              MAC OSX 10.13.\n",
            "                                                              For more info,\n",
            "                                                              please check out\n",
            "                                                              my github page.\n",
            "                                                              I highly\n",
            "                                                              recommend you\n",
            "                                                              directly\n",
            "                                                              download and\n",
            "                                                              install it from\n",
            "                                                              my github's\n",
            "                                                              release. If you\n",
            "                                                              insist on\n",
            "                                                              compiling it,\n",
            "                                                              you'd do it on a\n",
            "                                                              shell to debug.\n",
            "django-redactor-2.0 (0.3)                                   - This reusable\n",
            "                                                              Django app using\n",
            "                                                              WYSIWYG editor\n",
            "                                                              redactorjs.com\n",
            "aio-jsonrpc-2.0 (0.1.0)                                     - fast JSON-RPC\n",
            "                                                              protocol\n",
            "                                                              implementation\n",
            "                                                              for asyncio,\n",
            "                                                              without\n",
            "                                                              transport\n",
            "tf-common (1.0.0)                                           - A common\n",
            "                                                              liberary of\n",
            "                                                              tensorflow\n",
            "tf-ecosystem (1.0.7)                                        - A framework for\n",
            "                                                              initialising a\n",
            "                                                              terraform\n",
            "                                                              environment\n",
            "tf-core (0.0.26)                                            - TextFlows core\n",
            "                                                              text mining\n",
            "                                                              module\n",
            "tf-enhance (0.0.5)                                          - An easy\n",
            "                                                              enhancement\n",
            "                                                              framework for\n",
            "                                                              TensorFlow.\n",
            "tf-spectral (0.1)                                           - Spectrogram\n",
            "                                                              tools using\n",
            "                                                              tensorflow\n",
            "tf-env (0.1.0)                                              - RL environments\n",
            "                                                              for TensorFlow.\n",
            "OpenNMT-tf (1.18.0)                                         - Neural machine\n",
            "                                                              translation and\n",
            "                                                              sequence\n",
            "                                                              learning using\n",
            "                                                              TensorFlow\n",
            "tf-wrapper (1.0.0)                                          - A terraform\n",
            "                                                              wrapper\n",
            "tf-mdp (0.4.4)                                              - Probabilistic\n",
            "                                                              planning in\n",
            "                                                              continuous\n",
            "                                                              state-action\n",
            "                                                              MDPs using\n",
            "                                                              TensorFlow.\n",
            "tf-encrypted (0.4.0)                                        - Layer on top of\n",
            "                                                              TensorFlow for\n",
            "                                                              doing machine\n",
            "                                                              learning on\n",
            "                                                              encrypted data.\n",
            "graphpipe-tf (1.0.4)                                        - Graphpipe\n",
            "                                                              helpers for\n",
            "                                                              TensorFlow\n",
            "                                                              remote ops\n",
            "tf-logger (1.1.1)                                           - A print and\n",
            "                                                              debugging\n",
            "                                                              utility that\n",
            "                                                              makes your error\n",
            "                                                              printouts look\n",
            "                                                              nice\n",
            "tf-reaper (0.1.3)                                           - Threshing Floor\n",
            "                                                              CLI utility for\n",
            "                                                              analyzing log\n",
            "                                                              files for noise.\n",
            "tf-progress (0.1.3)                                         - Easy-to-use\n",
            "                                                              library for\n",
            "                                                              logging training\n",
            "                                                              progress of\n",
            "                                                              TensorFlow\n",
            "mlbootstrap-tf (0.0.5)                                      - A tiny bootstrap\n",
            "                                                              toolkit for deep\n",
            "                                                              learning with\n",
            "                                                              Tensorflow\n",
            "                                                              extionsions\n",
            "tf-cop (0.2.1)                                              - auto terraform\n",
            "                                                              review\n",
            "onnx-tf (1.2.1)                                             - Tensorflow\n",
            "                                                              backend and\n",
            "                                                              frontend for\n",
            "                                                              ONNX (Open\n",
            "                                                              Neural Network\n",
            "                                                              Exchange).\n",
            "tf-taggers (0.0.8)                                          - TextFlows\n",
            "                                                              taggers module\n",
            "rlgarage-tf (0.1.0)                                         - \n",
            "tf-plan (0.4.7)                                             - Planning through\n",
            "                                                              backpropagation\n",
            "                                                              using\n",
            "                                                              TensorFlow.\n",
            "tf-encrypt (0.0.1)                                          - Layer on top of\n",
            "                                                              TensorFlow for\n",
            "                                                              doing machine\n",
            "                                                              learning on\n",
            "                                                              encrypted data.\n",
            "tf-sdp (0.9)                                                - Deep\n",
            "                                                              Nonparametric\n",
            "                                                              Estimation of\n",
            "                                                              Discrete\n",
            "                                                              Conditional\n",
            "                                                              Distributions\n",
            "                                                              via Smoothed\n",
            "                                                              Dyadic\n",
            "                                                              Partitioning\n",
            "tf-datasets (0.0.1)                                         - tensorflow/datas\n",
            "                                                              ets\n",
            "tf-sentencepiece (0.1.8)                                    - SentencePiece\n",
            "                                                              Encode/Decode\n",
            "                                                              ops for\n",
            "                                                              TensorFlow\n",
            "tf-data (0.0.4)                                             - Easy datasets\n",
            "                                                              for tensorflow\n",
            "tf-latino (0.0.5)                                           - TextFlows Latino\n",
            "                                                              text mining\n",
            "                                                              module\n",
            "lektor-preview-markdown (0.1)                               - Adds filter to\n",
            "                                                              trim a Markdown\n",
            "                                                              post to a\n",
            "                                                              specified\n",
            "                                                              length.\n",
            "dagster-pandas-nightly (0.3.0rc9.dev6)                      - Utilities and\n",
            "                                                              examples for\n",
            "                                                              working with\n",
            "                                                              pandas and\n",
            "                                                              dagster, an\n",
            "                                                              opinionated\n",
            "                                                              framework for\n",
            "                                                              expressing data\n",
            "                                                              pipelines\n",
            "dagster-ge-nightly (0.3.0rc9.dev6)                          - Great\n",
            "                                                              Expectations\n",
            "                                                              plugin for\n",
            "                                                              Dagster\n",
            "dagster-sqlalchemy-nightly (0.3.0rc9.dev6)                  - Utilities and\n",
            "                                                              examples for\n",
            "                                                              working with\n",
            "                                                              SQLAlchemy and\n",
            "                                                              dagster, an\n",
            "                                                              opinionated\n",
            "                                                              framework for\n",
            "                                                              expressing data\n",
            "                                                              pipelines\n",
            "pytorch-ignite-nightly (20190206)                           - A lightweight\n",
            "                                                              library to help\n",
            "                                                              with training\n",
            "                                                              neural networks\n",
            "                                                              in PyTorch.\n",
            "thinc-gpu-ops (0.0.4)                                       - CUDA kernels for\n",
            "                                                              Thinc\n",
            "dm-sonnet-gpu (1.27)                                        - Sonnet is a\n",
            "                                                              library for\n",
            "                                                              building neural\n",
            "                                                              networks in\n",
            "                                                              TensorFlow.\n",
            "gpu-batch-sub (0.0.3)                                       - Batch bsub\n",
            "                                                              launcher\n",
            "pytext-nlp-gpu (0.1)                                        - pytorch modeling\n",
            "                                                              framework and\n",
            "                                                              model zoo for\n",
            "                                                              text models\n",
            "tensorflow-probability-gpu (0.4.0)                          - Probabilistic\n",
            "                                                              modeling and\n",
            "                                                              statistical\n",
            "                                                              inference in\n",
            "                                                              TensorFlow\n",
            "fb-pytext-gpu (0.1)                                         - pytorch modeling\n",
            "                                                              framework and\n",
            "                                                              model zoo for\n",
            "                                                              text models\n"
          ],
          "name": "stdout"
        }
      ]
    },
    {
      "metadata": {
        "colab_type": "code",
        "id": "sXe0mloEvKj_",
        "outputId": "7ad8402b-6954-423c-9721-107eb38e514a",
        "colab": {
          "base_uri": "https://localhost:8080/",
          "height": 647
        }
      },
      "cell_type": "code",
      "source": [
        "!pip install tf-nightly-gpu-2.0-preview"
      ],
      "execution_count": 4,
      "outputs": [
        {
          "output_type": "stream",
          "text": [
            "Collecting tf-nightly-gpu-2.0-preview\n",
            "\u001b[?25l  Downloading https://files.pythonhosted.org/packages/36/1e/0261caf17fb94bea7b4d701387d6ee65ba7e2c721365e33782a115ab4980/tf_nightly_gpu_2.0_preview-2.0.0.dev20190207-cp27-cp27mu-manylinux1_x86_64.whl (323.0MB)\n",
            "\u001b[K    100% |████████████████████████████████| 323.0MB 50kB/s \n",
            "\u001b[?25hRequirement already satisfied: grpcio>=1.8.6 in /usr/local/lib/python2.7/dist-packages (from tf-nightly-gpu-2.0-preview) (1.15.0)\n",
            "Collecting tb-nightly<1.14.0a0,>=1.13.0a0 (from tf-nightly-gpu-2.0-preview)\n",
            "\u001b[?25l  Downloading https://files.pythonhosted.org/packages/96/db/c0e504a41104786745b446358e8f7bcf288cabf518ac91e5d4bfc9f4ad70/tb_nightly-1.13.0a20190207-py2-none-any.whl (3.2MB)\n",
            "\u001b[K    100% |████████████████████████████████| 3.2MB 4.6MB/s \n",
            "\u001b[?25hRequirement already satisfied: keras-applications>=1.0.6 in /usr/local/lib/python2.7/dist-packages (from tf-nightly-gpu-2.0-preview) (1.0.7)\n",
            "Requirement already satisfied: backports.weakref>=1.0rc1 in /usr/local/lib/python2.7/dist-packages (from tf-nightly-gpu-2.0-preview) (1.0.post1)\n",
            "Requirement already satisfied: enum34>=1.1.6 in /usr/local/lib/python2.7/dist-packages (from tf-nightly-gpu-2.0-preview) (1.1.6)\n",
            "Requirement already satisfied: protobuf>=3.6.1 in /usr/local/lib/python2.7/dist-packages (from tf-nightly-gpu-2.0-preview) (3.6.1)\n",
            "Requirement already satisfied: keras-preprocessing>=1.0.5 in /usr/local/lib/python2.7/dist-packages (from tf-nightly-gpu-2.0-preview) (1.0.8)\n",
            "Requirement already satisfied: gast>=0.2.0 in /usr/local/lib/python2.7/dist-packages (from tf-nightly-gpu-2.0-preview) (0.2.2)\n",
            "Requirement already satisfied: wheel in /usr/local/lib/python2.7/dist-packages (from tf-nightly-gpu-2.0-preview) (0.32.3)\n",
            "Requirement already satisfied: absl-py>=0.1.6 in /usr/local/lib/python2.7/dist-packages (from tf-nightly-gpu-2.0-preview) (0.7.0)\n",
            "Requirement already satisfied: numpy<2.0,>=1.14.5 in /usr/local/lib/python2.7/dist-packages (from tf-nightly-gpu-2.0-preview) (1.14.6)\n",
            "Requirement already satisfied: six>=1.10.0 in /usr/local/lib/python2.7/dist-packages (from tf-nightly-gpu-2.0-preview) (1.11.0)\n",
            "Collecting google-pasta>=0.1.1 (from tf-nightly-gpu-2.0-preview)\n",
            "\u001b[?25l  Downloading https://files.pythonhosted.org/packages/6a/90/22f8f026c0e8d22fbf742d2d273d6d7cf754bc510a9e035bdb1188791497/google_pasta-0.1.1-py2-none-any.whl (51kB)\n",
            "\u001b[K    100% |████████████████████████████████| 61kB 23.5MB/s \n",
            "\u001b[?25hRequirement already satisfied: termcolor>=1.1.0 in /usr/local/lib/python2.7/dist-packages (from tf-nightly-gpu-2.0-preview) (1.1.0)\n",
            "Requirement already satisfied: mock>=2.0.0 in /usr/local/lib/python2.7/dist-packages (from tf-nightly-gpu-2.0-preview) (2.0.0)\n",
            "Collecting tensorflow-estimator-2.0-preview (from tf-nightly-gpu-2.0-preview)\n",
            "\u001b[?25l  Downloading https://files.pythonhosted.org/packages/35/c1/5a32c6093e96421cb0fe64d25a0e9c5e7bba9d87c7e431fb375b12437e73/tensorflow_estimator_2.0_preview-1.13.0.dev2019012800-py2.py3-none-any.whl (347kB)\n",
            "\u001b[K    100% |████████████████████████████████| 348kB 8.0MB/s \n",
            "\u001b[?25hRequirement already satisfied: astor>=0.6.0 in /usr/local/lib/python2.7/dist-packages (from tf-nightly-gpu-2.0-preview) (0.7.1)\n",
            "Requirement already satisfied: futures>=2.2.0 in /usr/local/lib/python2.7/dist-packages (from grpcio>=1.8.6->tf-nightly-gpu-2.0-preview) (3.2.0)\n",
            "Requirement already satisfied: werkzeug>=0.11.15 in /usr/local/lib/python2.7/dist-packages (from tb-nightly<1.14.0a0,>=1.13.0a0->tf-nightly-gpu-2.0-preview) (0.14.1)\n",
            "Requirement already satisfied: markdown>=2.6.8 in /usr/local/lib/python2.7/dist-packages (from tb-nightly<1.14.0a0,>=1.13.0a0->tf-nightly-gpu-2.0-preview) (3.0.1)\n",
            "Requirement already satisfied: h5py in /usr/local/lib/python2.7/dist-packages (from keras-applications>=1.0.6->tf-nightly-gpu-2.0-preview) (2.8.0)\n",
            "Requirement already satisfied: setuptools in /usr/local/lib/python2.7/dist-packages (from protobuf>=3.6.1->tf-nightly-gpu-2.0-preview) (40.7.3)\n",
            "Requirement already satisfied: funcsigs>=1; python_version < \"3.3\" in /usr/local/lib/python2.7/dist-packages (from mock>=2.0.0->tf-nightly-gpu-2.0-preview) (1.0.2)\n",
            "Requirement already satisfied: pbr>=0.11 in /usr/local/lib/python2.7/dist-packages (from mock>=2.0.0->tf-nightly-gpu-2.0-preview) (5.1.2)\n",
            "Installing collected packages: tb-nightly, google-pasta, tensorflow-estimator-2.0-preview, tf-nightly-gpu-2.0-preview\n",
            "Successfully installed google-pasta-0.1.1 tb-nightly-1.13.0a20190207 tensorflow-estimator-2.0-preview-1.13.0.dev2019012800 tf-nightly-gpu-2.0-preview-2.0.0.dev20190207\n"
          ],
          "name": "stdout"
        }
      ]
    },
    {
      "metadata": {
        "colab_type": "code",
        "id": "Hn-bwSbtr9w1",
        "outputId": "d96bcf34-eac7-4bd2-c91c-a3623dc46ae6",
        "colab": {
          "base_uri": "https://localhost:8080/",
          "height": 35
        }
      },
      "cell_type": "code",
      "source": [
        "import tensorflow as tf\n",
        "print(tf.__version__)"
      ],
      "execution_count": 5,
      "outputs": [
        {
          "output_type": "stream",
          "text": [
            "2.0.0-dev20190207\n"
          ],
          "name": "stdout"
        }
      ]
    },
    {
      "metadata": {
        "colab_type": "code",
        "id": "u4-Yx15zrt64",
        "outputId": "2d888572-2445-41db-de1a-cac118343de5",
        "colab": {
          "base_uri": "https://localhost:8080/",
          "height": 35
        }
      },
      "cell_type": "code",
      "source": [
        "!cat /usr/local/cuda/version.txt"
      ],
      "execution_count": 6,
      "outputs": [
        {
          "output_type": "stream",
          "text": [
            "CUDA Version 10.0.130\n"
          ],
          "name": "stdout"
        }
      ]
    },
    {
      "metadata": {
        "colab_type": "code",
        "id": "CuEKVouWvPTP",
        "outputId": "9a017ddf-43dc-4a24-e2f4-61426e90f194",
        "colab": {
          "base_uri": "https://localhost:8080/",
          "height": 35
        }
      },
      "cell_type": "code",
      "source": [
        "!python --version"
      ],
      "execution_count": 7,
      "outputs": [
        {
          "output_type": "stream",
          "text": [
            "Python 2.7.15rc1\n"
          ],
          "name": "stdout"
        }
      ]
    },
    {
      "metadata": {
        "colab_type": "code",
        "id": "8YzGb83LroE8",
        "outputId": "a64f6475-c32f-49d2-835b-0ca817007118",
        "colab": {
          "base_uri": "https://localhost:8080/",
          "height": 179
        }
      },
      "cell_type": "code",
      "source": [
        "!pip install coremltools"
      ],
      "execution_count": 8,
      "outputs": [
        {
          "output_type": "stream",
          "text": [
            "Collecting coremltools\n",
            "\u001b[?25l  Downloading https://files.pythonhosted.org/packages/27/e5/1fb52dee55fc33ee5fdbfd0e9c5acfcac62ea06cb2d321f24165a9783573/coremltools-2.1.0-cp27-none-manylinux1_x86_64.whl (2.7MB)\n",
            "\u001b[K    100% |████████████████████████████████| 2.7MB 10.3MB/s \n",
            "\u001b[?25hRequirement already satisfied: six>=1.10.0 in /usr/local/lib/python2.7/dist-packages (from coremltools) (1.11.0)\n",
            "Requirement already satisfied: numpy>=1.10.0 in /usr/local/lib/python2.7/dist-packages (from coremltools) (1.14.6)\n",
            "Requirement already satisfied: protobuf>=3.1.0 in /usr/local/lib/python2.7/dist-packages (from coremltools) (3.6.1)\n",
            "Requirement already satisfied: setuptools in /usr/local/lib/python2.7/dist-packages (from protobuf>=3.1.0->coremltools) (40.7.3)\n",
            "Installing collected packages: coremltools\n",
            "Successfully installed coremltools-2.1.0\n"
          ],
          "name": "stdout"
        }
      ]
    },
    {
      "metadata": {
        "colab_type": "code",
        "id": "jTlu7mwPyt7x",
        "colab": {}
      },
      "cell_type": "code",
      "source": [
        "from __future__ import print_function\n",
        "\n",
        "import os\n",
        "import json"
      ],
      "execution_count": 0,
      "outputs": []
    },
    {
      "metadata": {
        "colab_type": "code",
        "id": "SzAb7yELy16T",
        "colab": {}
      },
      "cell_type": "code",
      "source": [
        "from tensorflow.keras.preprocessing import image"
      ],
      "execution_count": 0,
      "outputs": []
    },
    {
      "metadata": {
        "colab_type": "code",
        "id": "t9O9-FdUy7r6",
        "colab": {}
      },
      "cell_type": "code",
      "source": [
        "import tensorflow as tf"
      ],
      "execution_count": 0,
      "outputs": []
    },
    {
      "metadata": {
        "colab_type": "code",
        "id": "kVp65Lz6y-jK",
        "colab": {}
      },
      "cell_type": "code",
      "source": [
        "import tensorflow.keras as keras"
      ],
      "execution_count": 0,
      "outputs": []
    },
    {
      "metadata": {
        "colab_type": "code",
        "id": "lKM1HSAvzAIK",
        "colab": {}
      },
      "cell_type": "code",
      "source": [
        "def get_imagenet_class_labels():\n",
        "    \"\"\"\n",
        "    Get the imagenet class index\n",
        "\n",
        "    :return:\n",
        "    Thanks Nick Gaens for this helper method.\n",
        "    \"\"\"\n",
        "\n",
        "    # Link to imagenet class labels provided by Keras\n",
        "    class_label_path = 'https://s3.amazonaws.com/deep-learning-models/image-models/imagenet_class_index.json'\n",
        "\n",
        "    if not os.path.isfile(\"imagenet_class_index.json\"):\n",
        "        location = tf.keras.utils.get_file('imagenet_class_index.json', origin=class_label_path, \n",
        "          extract=False)\n",
        "    with open(location) as json_data:\n",
        "        d = json.load(json_data)\n",
        "\n",
        "    # Create a list of the class labels\n",
        "    class_labels = []\n",
        "    for ii in range(len(d.keys())):\n",
        "        class_labels.append(d[str(ii)][1].encode('ascii', 'ignore'))\n",
        "\n",
        "    return class_labels"
      ],
      "execution_count": 0,
      "outputs": []
    },
    {
      "metadata": {
        "id": "2VYyan2m0Zzu",
        "colab_type": "code",
        "colab": {
          "base_uri": "https://localhost:8080/",
          "height": 179
        },
        "outputId": "b3d3a7de-506a-4844-9a44-e55b47118ac9"
      },
      "cell_type": "code",
      "source": [
        "if use_tf_keras:\n",
        "  print(\"using tf.keras\")\n",
        "else:\n",
        "  print(\"using Keras.io\")\n",
        "  !pip install -U keras"
      ],
      "execution_count": 16,
      "outputs": [
        {
          "output_type": "stream",
          "text": [
            "using Keras.io\n",
            "Requirement already up-to-date: keras in /usr/local/lib/python2.7/dist-packages (2.2.4)\n",
            "Requirement already satisfied, skipping upgrade: keras-applications>=1.0.6 in /usr/local/lib/python2.7/dist-packages (from keras) (1.0.7)\n",
            "Requirement already satisfied, skipping upgrade: numpy>=1.9.1 in /usr/local/lib/python2.7/dist-packages (from keras) (1.14.6)\n",
            "Requirement already satisfied, skipping upgrade: keras-preprocessing>=1.0.5 in /usr/local/lib/python2.7/dist-packages (from keras) (1.0.8)\n",
            "Requirement already satisfied, skipping upgrade: scipy>=0.14 in /usr/local/lib/python2.7/dist-packages (from keras) (1.1.0)\n",
            "Requirement already satisfied, skipping upgrade: h5py in /usr/local/lib/python2.7/dist-packages (from keras) (2.8.0)\n",
            "Requirement already satisfied, skipping upgrade: pyyaml in /usr/local/lib/python2.7/dist-packages (from keras) (3.13)\n",
            "Requirement already satisfied, skipping upgrade: six>=1.9.0 in /usr/local/lib/python2.7/dist-packages (from keras) (1.11.0)\n"
          ],
          "name": "stdout"
        }
      ]
    },
    {
      "metadata": {
        "id": "3GG_lpRG0eIl",
        "colab_type": "code",
        "colab": {
          "base_uri": "https://localhost:8080/",
          "height": 71
        },
        "outputId": "fb7e9d03-220d-4459-8ee0-789bb6334c67"
      },
      "cell_type": "code",
      "source": [
        "if use_tf_keras:\n",
        "  print(\"using tf.keras\")\n",
        "  import tf.keras\n",
        "else:\n",
        "  print(\"using keras\")\n",
        "  import keras\n",
        "  print(keras.__version__)"
      ],
      "execution_count": 17,
      "outputs": [
        {
          "output_type": "stream",
          "text": [
            "using keras\n",
            "2.2.4\n"
          ],
          "name": "stdout"
        },
        {
          "output_type": "stream",
          "text": [
            "Using TensorFlow backend.\n"
          ],
          "name": "stderr"
        }
      ]
    },
    {
      "metadata": {
        "colab_type": "code",
        "id": "J0zp1cC707fi",
        "outputId": "c8e4d7fe-0613-428f-bfd9-613196d942d9",
        "colab": {
          "base_uri": "https://localhost:8080/",
          "height": 701
        }
      },
      "cell_type": "code",
      "source": [
        "dir(keras.applications)"
      ],
      "execution_count": 18,
      "outputs": [
        {
          "output_type": "execute_result",
          "data": {
            "text/plain": [
              "['DenseNet121',\n",
              " 'DenseNet169',\n",
              " 'DenseNet201',\n",
              " 'InceptionResNetV2',\n",
              " 'InceptionV3',\n",
              " 'MobileNet',\n",
              " 'MobileNetV2',\n",
              " 'NASNetLarge',\n",
              " 'NASNetMobile',\n",
              " 'ResNet50',\n",
              " 'VGG16',\n",
              " 'VGG19',\n",
              " 'Xception',\n",
              " '__builtins__',\n",
              " '__doc__',\n",
              " '__file__',\n",
              " '__name__',\n",
              " '__package__',\n",
              " '__path__',\n",
              " 'absolute_import',\n",
              " 'backend',\n",
              " 'densenet',\n",
              " 'division',\n",
              " 'inception_resnet_v2',\n",
              " 'inception_v3',\n",
              " 'keras_applications',\n",
              " 'keras_modules_injection',\n",
              " 'layers',\n",
              " 'mobilenet',\n",
              " 'mobilenet_v2',\n",
              " 'models',\n",
              " 'nasnet',\n",
              " 'print_function',\n",
              " 'resnet50',\n",
              " 'utils',\n",
              " 'vgg16',\n",
              " 'vgg19',\n",
              " 'xception']"
            ]
          },
          "metadata": {
            "tags": []
          },
          "execution_count": 18
        }
      ]
    },
    {
      "metadata": {
        "colab_type": "code",
        "id": "22L1cDbLzoD9",
        "colab": {
          "base_uri": "https://localhost:8080/",
          "height": 1054
        },
        "outputId": "b3be4d5d-f9ab-4a90-d74a-2414c65e2112"
      },
      "cell_type": "code",
      "source": [
        "model = keras.applications.MobileNetV2(weights='imagenet')"
      ],
      "execution_count": 19,
      "outputs": [
        {
          "output_type": "error",
          "ename": "AttributeError",
          "evalue": "ignored",
          "traceback": [
            "\u001b[0;31m\u001b[0m",
            "\u001b[0;31mAttributeError\u001b[0mTraceback (most recent call last)",
            "\u001b[0;32m<ipython-input-19-8a7001b9058c>\u001b[0m in \u001b[0;36m<module>\u001b[0;34m()\u001b[0m\n\u001b[0;32m----> 1\u001b[0;31m \u001b[0mmodel\u001b[0m \u001b[0;34m=\u001b[0m \u001b[0mkeras\u001b[0m\u001b[0;34m.\u001b[0m\u001b[0mapplications\u001b[0m\u001b[0;34m.\u001b[0m\u001b[0mMobileNetV2\u001b[0m\u001b[0;34m(\u001b[0m\u001b[0mweights\u001b[0m\u001b[0;34m=\u001b[0m\u001b[0;34m'imagenet'\u001b[0m\u001b[0;34m)\u001b[0m\u001b[0;34m\u001b[0m\u001b[0m\n\u001b[0m",
            "\u001b[0;32m/usr/local/lib/python2.7/dist-packages/keras/applications/__init__.pyc\u001b[0m in \u001b[0;36mwrapper\u001b[0;34m(*args, **kwargs)\u001b[0m\n\u001b[1;32m     26\u001b[0m             \u001b[0mkwargs\u001b[0m\u001b[0;34m[\u001b[0m\u001b[0;34m'models'\u001b[0m\u001b[0;34m]\u001b[0m \u001b[0;34m=\u001b[0m \u001b[0mmodels\u001b[0m\u001b[0;34m\u001b[0m\u001b[0m\n\u001b[1;32m     27\u001b[0m             \u001b[0mkwargs\u001b[0m\u001b[0;34m[\u001b[0m\u001b[0;34m'utils'\u001b[0m\u001b[0;34m]\u001b[0m \u001b[0;34m=\u001b[0m \u001b[0mutils\u001b[0m\u001b[0;34m\u001b[0m\u001b[0m\n\u001b[0;32m---> 28\u001b[0;31m         \u001b[0;32mreturn\u001b[0m \u001b[0mbase_fun\u001b[0m\u001b[0;34m(\u001b[0m\u001b[0;34m*\u001b[0m\u001b[0margs\u001b[0m\u001b[0;34m,\u001b[0m \u001b[0;34m**\u001b[0m\u001b[0mkwargs\u001b[0m\u001b[0;34m)\u001b[0m\u001b[0;34m\u001b[0m\u001b[0m\n\u001b[0m\u001b[1;32m     29\u001b[0m \u001b[0;34m\u001b[0m\u001b[0m\n\u001b[1;32m     30\u001b[0m     \u001b[0;32mreturn\u001b[0m \u001b[0mwrapper\u001b[0m\u001b[0;34m\u001b[0m\u001b[0m\n",
            "\u001b[0;32m/usr/local/lib/python2.7/dist-packages/keras/applications/mobilenet_v2.pyc\u001b[0m in \u001b[0;36mMobileNetV2\u001b[0;34m(*args, **kwargs)\u001b[0m\n\u001b[1;32m      9\u001b[0m \u001b[0;34m@\u001b[0m\u001b[0mkeras_modules_injection\u001b[0m\u001b[0;34m\u001b[0m\u001b[0m\n\u001b[1;32m     10\u001b[0m \u001b[0;32mdef\u001b[0m \u001b[0mMobileNetV2\u001b[0m\u001b[0;34m(\u001b[0m\u001b[0;34m*\u001b[0m\u001b[0margs\u001b[0m\u001b[0;34m,\u001b[0m \u001b[0;34m**\u001b[0m\u001b[0mkwargs\u001b[0m\u001b[0;34m)\u001b[0m\u001b[0;34m:\u001b[0m\u001b[0;34m\u001b[0m\u001b[0m\n\u001b[0;32m---> 11\u001b[0;31m     \u001b[0;32mreturn\u001b[0m \u001b[0mmobilenet_v2\u001b[0m\u001b[0;34m.\u001b[0m\u001b[0mMobileNetV2\u001b[0m\u001b[0;34m(\u001b[0m\u001b[0;34m*\u001b[0m\u001b[0margs\u001b[0m\u001b[0;34m,\u001b[0m \u001b[0;34m**\u001b[0m\u001b[0mkwargs\u001b[0m\u001b[0;34m)\u001b[0m\u001b[0;34m\u001b[0m\u001b[0m\n\u001b[0m\u001b[1;32m     12\u001b[0m \u001b[0;34m\u001b[0m\u001b[0m\n\u001b[1;32m     13\u001b[0m \u001b[0;34m\u001b[0m\u001b[0m\n",
            "\u001b[0;32m/usr/local/lib/python2.7/dist-packages/keras_applications/mobilenet_v2.pyc\u001b[0m in \u001b[0;36mMobileNetV2\u001b[0;34m(input_shape, alpha, include_top, weights, input_tensor, pooling, classes, **kwargs)\u001b[0m\n\u001b[1;32m    319\u001b[0m \u001b[0;34m\u001b[0m\u001b[0m\n\u001b[1;32m    320\u001b[0m     \u001b[0;32mif\u001b[0m \u001b[0minput_tensor\u001b[0m \u001b[0;32mis\u001b[0m \u001b[0mNone\u001b[0m\u001b[0;34m:\u001b[0m\u001b[0;34m\u001b[0m\u001b[0m\n\u001b[0;32m--> 321\u001b[0;31m         \u001b[0mimg_input\u001b[0m \u001b[0;34m=\u001b[0m \u001b[0mlayers\u001b[0m\u001b[0;34m.\u001b[0m\u001b[0mInput\u001b[0m\u001b[0;34m(\u001b[0m\u001b[0mshape\u001b[0m\u001b[0;34m=\u001b[0m\u001b[0minput_shape\u001b[0m\u001b[0;34m)\u001b[0m\u001b[0;34m\u001b[0m\u001b[0m\n\u001b[0m\u001b[1;32m    322\u001b[0m     \u001b[0;32melse\u001b[0m\u001b[0;34m:\u001b[0m\u001b[0;34m\u001b[0m\u001b[0m\n\u001b[1;32m    323\u001b[0m         \u001b[0;32mif\u001b[0m \u001b[0;32mnot\u001b[0m \u001b[0mbackend\u001b[0m\u001b[0;34m.\u001b[0m\u001b[0mis_keras_tensor\u001b[0m\u001b[0;34m(\u001b[0m\u001b[0minput_tensor\u001b[0m\u001b[0;34m)\u001b[0m\u001b[0;34m:\u001b[0m\u001b[0;34m\u001b[0m\u001b[0m\n",
            "\u001b[0;32m/usr/local/lib/python2.7/dist-packages/keras/engine/input_layer.pyc\u001b[0m in \u001b[0;36mInput\u001b[0;34m(shape, batch_shape, name, dtype, sparse, tensor)\u001b[0m\n\u001b[1;32m    176\u001b[0m                              \u001b[0mname\u001b[0m\u001b[0;34m=\u001b[0m\u001b[0mname\u001b[0m\u001b[0;34m,\u001b[0m \u001b[0mdtype\u001b[0m\u001b[0;34m=\u001b[0m\u001b[0mdtype\u001b[0m\u001b[0;34m,\u001b[0m\u001b[0;34m\u001b[0m\u001b[0m\n\u001b[1;32m    177\u001b[0m                              \u001b[0msparse\u001b[0m\u001b[0;34m=\u001b[0m\u001b[0msparse\u001b[0m\u001b[0;34m,\u001b[0m\u001b[0;34m\u001b[0m\u001b[0m\n\u001b[0;32m--> 178\u001b[0;31m                              input_tensor=tensor)\n\u001b[0m\u001b[1;32m    179\u001b[0m     \u001b[0;31m# Return tensor including _keras_shape and _keras_history.\u001b[0m\u001b[0;34m\u001b[0m\u001b[0;34m\u001b[0m\u001b[0m\n\u001b[1;32m    180\u001b[0m     \u001b[0;31m# Note that in this case train_output and test_output are the same pointer.\u001b[0m\u001b[0;34m\u001b[0m\u001b[0;34m\u001b[0m\u001b[0m\n",
            "\u001b[0;32m/usr/local/lib/python2.7/dist-packages/keras/legacy/interfaces.pyc\u001b[0m in \u001b[0;36mwrapper\u001b[0;34m(*args, **kwargs)\u001b[0m\n\u001b[1;32m     89\u001b[0m                 warnings.warn('Update your `' + object_name + '` call to the ' +\n\u001b[1;32m     90\u001b[0m                               'Keras 2 API: ' + signature, stacklevel=2)\n\u001b[0;32m---> 91\u001b[0;31m             \u001b[0;32mreturn\u001b[0m \u001b[0mfunc\u001b[0m\u001b[0;34m(\u001b[0m\u001b[0;34m*\u001b[0m\u001b[0margs\u001b[0m\u001b[0;34m,\u001b[0m \u001b[0;34m**\u001b[0m\u001b[0mkwargs\u001b[0m\u001b[0;34m)\u001b[0m\u001b[0;34m\u001b[0m\u001b[0m\n\u001b[0m\u001b[1;32m     92\u001b[0m         \u001b[0mwrapper\u001b[0m\u001b[0;34m.\u001b[0m\u001b[0m_original_function\u001b[0m \u001b[0;34m=\u001b[0m \u001b[0mfunc\u001b[0m\u001b[0;34m\u001b[0m\u001b[0m\n\u001b[1;32m     93\u001b[0m         \u001b[0;32mreturn\u001b[0m \u001b[0mwrapper\u001b[0m\u001b[0;34m\u001b[0m\u001b[0m\n",
            "\u001b[0;32m/usr/local/lib/python2.7/dist-packages/keras/engine/input_layer.pyc\u001b[0m in \u001b[0;36m__init__\u001b[0;34m(self, input_shape, batch_size, batch_input_shape, dtype, input_tensor, sparse, name)\u001b[0m\n\u001b[1;32m     37\u001b[0m         \u001b[0;32mif\u001b[0m \u001b[0;32mnot\u001b[0m \u001b[0mname\u001b[0m\u001b[0;34m:\u001b[0m\u001b[0;34m\u001b[0m\u001b[0m\n\u001b[1;32m     38\u001b[0m             \u001b[0mprefix\u001b[0m \u001b[0;34m=\u001b[0m \u001b[0;34m'input'\u001b[0m\u001b[0;34m\u001b[0m\u001b[0m\n\u001b[0;32m---> 39\u001b[0;31m             \u001b[0mname\u001b[0m \u001b[0;34m=\u001b[0m \u001b[0mprefix\u001b[0m \u001b[0;34m+\u001b[0m \u001b[0;34m'_'\u001b[0m \u001b[0;34m+\u001b[0m \u001b[0mstr\u001b[0m\u001b[0;34m(\u001b[0m\u001b[0mK\u001b[0m\u001b[0;34m.\u001b[0m\u001b[0mget_uid\u001b[0m\u001b[0;34m(\u001b[0m\u001b[0mprefix\u001b[0m\u001b[0;34m)\u001b[0m\u001b[0;34m)\u001b[0m\u001b[0;34m\u001b[0m\u001b[0m\n\u001b[0m\u001b[1;32m     40\u001b[0m         \u001b[0msuper\u001b[0m\u001b[0;34m(\u001b[0m\u001b[0mInputLayer\u001b[0m\u001b[0;34m,\u001b[0m \u001b[0mself\u001b[0m\u001b[0;34m)\u001b[0m\u001b[0;34m.\u001b[0m\u001b[0m__init__\u001b[0m\u001b[0;34m(\u001b[0m\u001b[0mdtype\u001b[0m\u001b[0;34m=\u001b[0m\u001b[0mdtype\u001b[0m\u001b[0;34m,\u001b[0m \u001b[0mname\u001b[0m\u001b[0;34m=\u001b[0m\u001b[0mname\u001b[0m\u001b[0;34m)\u001b[0m\u001b[0;34m\u001b[0m\u001b[0m\n\u001b[1;32m     41\u001b[0m \u001b[0;34m\u001b[0m\u001b[0m\n",
            "\u001b[0;32m/usr/local/lib/python2.7/dist-packages/keras/backend/tensorflow_backend.pyc\u001b[0m in \u001b[0;36mget_uid\u001b[0;34m(prefix)\u001b[0m\n\u001b[1;32m     72\u001b[0m     \"\"\"\n\u001b[1;32m     73\u001b[0m     \u001b[0;32mglobal\u001b[0m \u001b[0m_GRAPH_UID_DICTS\u001b[0m\u001b[0;34m\u001b[0m\u001b[0m\n\u001b[0;32m---> 74\u001b[0;31m     \u001b[0mgraph\u001b[0m \u001b[0;34m=\u001b[0m \u001b[0mtf\u001b[0m\u001b[0;34m.\u001b[0m\u001b[0mget_default_graph\u001b[0m\u001b[0;34m(\u001b[0m\u001b[0;34m)\u001b[0m\u001b[0;34m\u001b[0m\u001b[0m\n\u001b[0m\u001b[1;32m     75\u001b[0m     \u001b[0;32mif\u001b[0m \u001b[0mgraph\u001b[0m \u001b[0;32mnot\u001b[0m \u001b[0;32min\u001b[0m \u001b[0m_GRAPH_UID_DICTS\u001b[0m\u001b[0;34m:\u001b[0m\u001b[0;34m\u001b[0m\u001b[0m\n\u001b[1;32m     76\u001b[0m         \u001b[0m_GRAPH_UID_DICTS\u001b[0m\u001b[0;34m[\u001b[0m\u001b[0mgraph\u001b[0m\u001b[0;34m]\u001b[0m \u001b[0;34m=\u001b[0m \u001b[0mdefaultdict\u001b[0m\u001b[0;34m(\u001b[0m\u001b[0mint\u001b[0m\u001b[0;34m)\u001b[0m\u001b[0;34m\u001b[0m\u001b[0m\n",
            "\u001b[0;31mAttributeError\u001b[0m: 'module' object has no attribute 'get_default_graph'"
          ]
        }
      ]
    },
    {
      "metadata": {
        "colab_type": "code",
        "id": "BsOvkYdRz-wu",
        "colab": {}
      },
      "cell_type": "code",
      "source": [
        "class_labels = get_imagenet_class_labels()"
      ],
      "execution_count": 0,
      "outputs": []
    },
    {
      "metadata": {
        "colab_type": "code",
        "id": "vcwDgLWM00tY",
        "colab": {}
      },
      "cell_type": "code",
      "source": [
        "import coremltools"
      ],
      "execution_count": 0,
      "outputs": []
    },
    {
      "metadata": {
        "colab_type": "code",
        "id": "oLN_AI8F0DIO",
        "colab": {}
      },
      "cell_type": "code",
      "source": [
        "coreml_model = coremltools.converters.keras.convert(model,\n",
        "                                                    input_names='data',\n",
        "                                                    image_input_names='data',\n",
        "                                                    class_labels=class_labels)"
      ],
      "execution_count": 0,
      "outputs": []
    },
    {
      "metadata": {
        "colab_type": "code",
        "id": "pAJMKVZF0wOw",
        "colab": {}
      },
      "cell_type": "code",
      "source": [
        "coreml_model.save('mobilenetv2.mlmodel')"
      ],
      "execution_count": 0,
      "outputs": []
    }
  ]
}