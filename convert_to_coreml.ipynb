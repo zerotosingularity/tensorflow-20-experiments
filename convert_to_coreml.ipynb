{
 "cells": [
  {
   "cell_type": "markdown",
   "metadata": {},
   "source": [
    "<table class=\"tfo-notebook-buttons\" align=\"left\">\n",
    "  <td>\n",
    "    <a target=\"_blank\" href=\"https://colab.research.google.com/github/zerotosingularity/tensorflow-20-experiments/blob/master/convert_to_coreml.ipynb\"><img src=\"https://www.tensorflow.org/images/colab_logo_32px.png\" />Run in Google Colab</a>\n",
    "  </td>\n",
    "  <td>\n",
    "    <a target=\"_blank\" href=\"https://github.com/zerotosingularity/tensorflow-20-experiments/blob/master/convert_to_coreml.ipynb\"><img src=\"https://www.tensorflow.org/images/GitHub-Mark-32px.png\" />View source on GitHub</a>\n",
    "  </td>\n",
    "</table>"
   ]
  },
  {
   "cell_type": "code",
   "execution_count": null,
   "metadata": {
    "colab": {},
    "colab_type": "code",
    "id": "FFKSe5dxvzFt"
   },
   "outputs": [],
   "source": [
    "%reload_ext autoreload\n",
    "%autoreload 2\n",
    "%matplotlib inline"
   ]
  },
  {
   "cell_type": "code",
   "execution_count": null,
   "metadata": {
    "colab": {
     "base_uri": "https://localhost:8080/",
     "height": 467
    },
    "colab_type": "code",
    "id": "sXe0mloEvKj_",
    "outputId": "d7c2c8a9-ee5c-4a1c-ea1e-e443b35f58c6"
   },
   "outputs": [],
   "source": [
    "!pip install tf-nightly-gpu-2.0-preview"
   ]
  },
  {
   "cell_type": "code",
   "execution_count": null,
   "metadata": {
    "colab": {
     "base_uri": "https://localhost:8080/",
     "height": 35
    },
    "colab_type": "code",
    "id": "Hn-bwSbtr9w1",
    "outputId": "c7318b04-2b6b-4045-a2f6-904ea6485ff4"
   },
   "outputs": [],
   "source": [
    "import tensorflow as tf\n",
    "print(tf.__version__)"
   ]
  },
  {
   "cell_type": "code",
   "execution_count": null,
   "metadata": {
    "colab": {
     "base_uri": "https://localhost:8080/",
     "height": 35
    },
    "colab_type": "code",
    "id": "u4-Yx15zrt64",
    "outputId": "1f27a0d9-8203-4455-d997-36adf7cbb35e"
   },
   "outputs": [],
   "source": [
    "!cat /usr/local/cuda/version.txt"
   ]
  },
  {
   "cell_type": "code",
   "execution_count": null,
   "metadata": {
    "colab": {
     "base_uri": "https://localhost:8080/",
     "height": 35
    },
    "colab_type": "code",
    "id": "CuEKVouWvPTP",
    "outputId": "a973b0c4-018e-44d9-cb83-e38171c10dec"
   },
   "outputs": [],
   "source": [
    "!python --version"
   ]
  },
  {
   "cell_type": "code",
   "execution_count": null,
   "metadata": {
    "colab": {
     "base_uri": "https://localhost:8080/",
     "height": 107
    },
    "colab_type": "code",
    "id": "8YzGb83LroE8",
    "outputId": "b919e295-d1d4-4027-835d-e1aac49f94ee"
   },
   "outputs": [],
   "source": [
    "!pip install coremltools"
   ]
  },
  {
   "cell_type": "code",
   "execution_count": null,
   "metadata": {
    "colab": {},
    "colab_type": "code",
    "id": "jTlu7mwPyt7x"
   },
   "outputs": [],
   "source": [
    "from __future__ import print_function\n",
    "\n",
    "import os\n",
    "import json"
   ]
  },
  {
   "cell_type": "code",
   "execution_count": null,
   "metadata": {
    "colab": {},
    "colab_type": "code",
    "id": "SzAb7yELy16T"
   },
   "outputs": [],
   "source": [
    "from tensorflow.keras.preprocessing import image"
   ]
  },
  {
   "cell_type": "code",
   "execution_count": null,
   "metadata": {
    "colab": {},
    "colab_type": "code",
    "id": "t9O9-FdUy7r6"
   },
   "outputs": [],
   "source": [
    "import tensorflow as tf"
   ]
  },
  {
   "cell_type": "code",
   "execution_count": null,
   "metadata": {
    "colab": {},
    "colab_type": "code",
    "id": "kVp65Lz6y-jK"
   },
   "outputs": [],
   "source": [
    "import tensorflow.keras as keras"
   ]
  },
  {
   "cell_type": "code",
   "execution_count": null,
   "metadata": {
    "colab": {},
    "colab_type": "code",
    "id": "lKM1HSAvzAIK"
   },
   "outputs": [],
   "source": [
    "def get_imagenet_class_labels():\n",
    "    \"\"\"\n",
    "    Get the imagenet class index\n",
    "\n",
    "    :return:\n",
    "    \"\"\"\n",
    "\n",
    "    # Link to imagenet class labels provided by Keras\n",
    "    class_label_path = 'https://s3.amazonaws.com/deep-learning-models/image-models/imagenet_class_index.json'\n",
    "\n",
    "    if not os.path.isfile(\"imagenet_class_index.json\"):\n",
    "        location = tf.keras.utils.get_file('imagenet_class_index.json', origin=class_label_path, \n",
    "          extract=False)\n",
    "    with open(location) as json_data:\n",
    "        d = json.load(json_data)\n",
    "\n",
    "    # Create a list of the class labels\n",
    "    class_labels = []\n",
    "    for ii in range(len(d.keys())):\n",
    "        class_labels.append(d[str(ii)][1].encode('ascii', 'ignore'))\n",
    "\n",
    "    return class_labels"
   ]
  },
  {
   "cell_type": "code",
   "execution_count": null,
   "metadata": {
    "colab": {
     "base_uri": "https://localhost:8080/",
     "height": 539
    },
    "colab_type": "code",
    "id": "J0zp1cC707fi",
    "outputId": "a31db6a5-b5ee-47a6-a87f-aeaa63c8f82b"
   },
   "outputs": [],
   "source": [
    "dir(keras.applications)"
   ]
  },
  {
   "cell_type": "code",
   "execution_count": null,
   "metadata": {
    "colab": {},
    "colab_type": "code",
    "id": "22L1cDbLzoD9"
   },
   "outputs": [],
   "source": [
    "model = keras.applications.MobileNetV2(weights='imagenet')"
   ]
  },
  {
   "cell_type": "code",
   "execution_count": null,
   "metadata": {
    "colab": {},
    "colab_type": "code",
    "id": "BsOvkYdRz-wu"
   },
   "outputs": [],
   "source": [
    "class_labels = get_imagenet_class_labels()"
   ]
  },
  {
   "cell_type": "code",
   "execution_count": null,
   "metadata": {
    "colab": {
     "base_uri": "https://localhost:8080/",
     "height": 53
    },
    "colab_type": "code",
    "id": "vcwDgLWM00tY",
    "outputId": "8a584b9b-e154-4671-91c0-9876ad9799aa"
   },
   "outputs": [],
   "source": [
    "import coremltools"
   ]
  },
  {
   "cell_type": "code",
   "execution_count": null,
   "metadata": {
    "colab": {
     "base_uri": "https://localhost:8080/",
     "height": 732
    },
    "colab_type": "code",
    "id": "oLN_AI8F0DIO",
    "outputId": "3df52ef4-e25c-447a-fccf-7a3f2360826b"
   },
   "outputs": [],
   "source": [
    "coreml_model = coremltools.converters.keras.convert(model,\n",
    "                                                    input_names='data',\n",
    "                                                    image_input_names='data',\n",
    "                                                    class_labels=class_labels)"
   ]
  },
  {
   "cell_type": "code",
   "execution_count": null,
   "metadata": {
    "colab": {},
    "colab_type": "code",
    "id": "pAJMKVZF0wOw"
   },
   "outputs": [],
   "source": [
    "coreml_model.save('mobilenetv2.mlmodel')"
   ]
  }
 ],
 "metadata": {
  "accelerator": "GPU",
  "colab": {
   "collapsed_sections": [],
   "name": "Tensorflow 2.0 convert model to CoreML",
   "provenance": [],
   "version": "0.3.2"
  },
  "kernelspec": {
   "display_name": "Python 2",
   "name": "python2"
  }
 },
 "nbformat": 4,
 "nbformat_minor": 1
}
